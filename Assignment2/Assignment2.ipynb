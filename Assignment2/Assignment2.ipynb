{
 "cells": [
  {
   "cell_type": "code",
   "execution_count": 21,
   "metadata": {},
   "outputs": [],
   "source": [
    "import datashader as ds\n",
    "import datashader.transfer_functions as tf\n",
    "import datashader.glyphs\n",
    "from datashader import reductions\n",
    "from datashader.core import bypixel\n",
    "from datashader.utils import lnglat_to_meters as webm, export_image\n",
    "from datashader.colors import colormap_select, Greys9, viridis, inferno\n",
    "import copy\n",
    "import config\n",
    "\n",
    "from pyproj import Proj, transform\n",
    "import numpy as np\n",
    "import pandas as pd\n",
    "import urllib\n",
    "import json\n",
    "import datetime\n",
    "import colorlover as cl\n",
    "\n",
    "import plotly as pl\n",
    "import plotly.plotly as py\n",
    "import plotly.graph_objs as go\n",
    "from plotly import tools\n",
    "\n",
    "from shapely.geometry import Point, Polygon, shape\n",
    "# In order to get shapley, you'll need to run [pip install shapely.geometry] from your terminal\n",
    "\n",
    "from functools import partial\n",
    "\n",
    "from IPython.display import GeoJSON"
   ]
  },
  {
   "cell_type": "markdown",
   "metadata": {},
   "source": [
    "For module 2 we'll be looking at techniques for dealing with big data. In particular binning strategies and the datashader library (which possibly proves we'll never need to bin large data for visualization ever again.)\n",
    "\n",
    "To demonstrate these concepts we'll be looking at the PLUTO dataset put out by New York City's department of city planning. PLUTO contains data about every tax lot in New York City.\n",
    "\n",
    "PLUTO data can be downloaded from [here](https://www1.nyc.gov/site/planning/data-maps/open-data/dwn-pluto-mappluto.page). Unzip them to the same directory as this notebook, and you should be able to read them in using this (or very similar) code. Also take note of the data dictionary, it'll come in handy for this assignment."
   ]
  },
  {
   "cell_type": "code",
   "execution_count": 2,
   "metadata": {},
   "outputs": [
    {
     "name": "stderr",
     "output_type": "stream",
     "text": [
      "/Applications/anaconda/lib/python3.6/site-packages/IPython/core/interactiveshell.py:2698: DtypeWarning:\n",
      "\n",
      "Columns (19,20,22,23,24,25,26,64,65,80) have mixed types. Specify dtype option on import or set low_memory=False.\n",
      "\n",
      "/Applications/anaconda/lib/python3.6/site-packages/IPython/core/interactiveshell.py:2698: DtypeWarning:\n",
      "\n",
      "Columns (19,20,22,23,64,65,80) have mixed types. Specify dtype option on import or set low_memory=False.\n",
      "\n",
      "/Applications/anaconda/lib/python3.6/site-packages/IPython/core/interactiveshell.py:2698: DtypeWarning:\n",
      "\n",
      "Columns (19,20,22,24,26) have mixed types. Specify dtype option on import or set low_memory=False.\n",
      "\n",
      "/Applications/anaconda/lib/python3.6/site-packages/IPython/core/interactiveshell.py:2698: DtypeWarning:\n",
      "\n",
      "Columns (19,20,22,23,64,65,77) have mixed types. Specify dtype option on import or set low_memory=False.\n",
      "\n",
      "/Applications/anaconda/lib/python3.6/site-packages/IPython/core/interactiveshell.py:2698: DtypeWarning:\n",
      "\n",
      "Columns (19,20,22,24,64,65,80) have mixed types. Specify dtype option on import or set low_memory=False.\n",
      "\n"
     ]
    }
   ],
   "source": [
    "bk = pd.read_csv('PLUTO17v1.1/BK2017V11.csv')\n",
    "bx = pd.read_csv('PLUTO17v1.1/BX2017V11.csv')\n",
    "mn = pd.read_csv('PLUTO17v1.1/MN2017V11.csv')\n",
    "qn = pd.read_csv('PLUTO17v1.1/QN2017V11.csv')\n",
    "si = pd.read_csv('PLUTO17v1.1/SI2017V11.csv')\n",
    "ny = pd.concat([bk, bx, mn, qn, si], ignore_index=True)\n",
    "\n",
    "# Getting rid of some outliers\n",
    "ny = ny[(ny['YearBuilt'] > 1850) & (ny['YearBuilt'] < 2020) & (ny['NumFloors'] != 0)]"
   ]
  },
  {
   "cell_type": "markdown",
   "metadata": {},
   "source": [
    "I'll also do some prep for the geographic component of this data, which we'll be relying on for datashader.\n",
    "\n",
    "You're not required to know how I'm retrieving the lattitude and longitude here, but for those interested: this dataset uses a flat x-y projection (assuming for a small enough area that the world is flat for easier calculations), and this needs to be projected back to traditional lattitude and longitude."
   ]
  },
  {
   "cell_type": "code",
   "execution_count": 16,
   "metadata": {},
   "outputs": [],
   "source": [
    "\n",
    "\n",
    "wgs84 = Proj(\"+proj=longlat +ellps=GRS80 +datum=NAD83 +no_defs\")\n",
    "nyli = Proj(\"+proj=lcc +lat_1=40.66666666666666 +lat_2=41.03333333333333 +lat_0=40.16666666666666 +lon_0=-74 +x_0=300000 +y_0=0 +ellps=GRS80 +datum=NAD83 +to_meter=0.3048006096012192 +no_defs\")\n",
    "ny['XCoord'] = 0.3048*ny['XCoord']\n",
    "ny['YCoord'] = 0.3048*ny['YCoord']\n",
    "ny['lon'], ny['lat'] = transform(nyli, wgs84, ny['XCoord'].values, ny['YCoord'].values)\n",
    "\n",
    "ny = ny[(ny['lon'] < -60) & (ny['lon'] > -100) & (ny['lat'] < 60) & (ny['lat'] > 20)]\n",
    "\n",
    "#Defining some helper functions for DataShader\n",
    "background = \"black\"\n",
    "export = partial(export_image, background = background, export_path=\"export\")\n",
    "cm = partial(colormap_select, reverse=(background!=\"black\"))"
   ]
  },
  {
   "cell_type": "markdown",
   "metadata": {},
   "source": [
    "## Part 1: Binning and Aggregation\n",
    "\n",
    "Binning is a common strategy for visualizing large datasets. Binning is inherent to a few types of visualizations, such as histograms and [2D histograms](https://plot.ly/python/2D-Histogram/) (also check out their close relatives: [2D density plots](https://plot.ly/python/2d-density-plots/) and the more general form: [heatmaps](https://plot.ly/python/heatmaps/).\n",
    "\n",
    "While these visualization types explicitly include binning, any type of visualization used with aggregated data can be looked at in the same way. For example, lets say we wanted to look at building construction over time. This would be best viewed as a line graph, but we can still think of our results as being binned by year:"
   ]
  },
  {
   "cell_type": "code",
   "execution_count": 22,
   "metadata": {},
   "outputs": [],
   "source": [
    "\n",
    "tools.set_credentials_file(username=config.username, api_key= config.api_key)"
   ]
  },
  {
   "cell_type": "code",
   "execution_count": 69,
   "metadata": {},
   "outputs": [
    {
     "name": "stdout",
     "output_type": "stream",
     "text": [
      "High five! You successfully sent some data to your account on plotly. View your plot in your browser at https://plot.ly/~kaiser_xc/0 or inside your plot.ly account where it is named 'ny-year-built'\n"
     ]
    },
    {
     "data": {
      "text/html": [
       "<iframe id=\"igraph\" scrolling=\"no\" style=\"border:none;\" seamless=\"seamless\" src=\"https://plot.ly/~kaiser_xc/0.embed\" height=\"525px\" width=\"100%\"></iframe>"
      ],
      "text/plain": [
       "<plotly.tools.PlotlyDisplay object>"
      ]
     },
     "execution_count": 69,
     "metadata": {},
     "output_type": "execute_result"
    }
   ],
   "source": [
    "trace = go.Scatter(\n",
    "    # I'm choosing BBL here because I know it's a unique key.\n",
    "    x = ny.groupby('YearBuilt').count()['BBL'].index,\n",
    "    y = ny.groupby('YearBuilt').count()['BBL']\n",
    ")\n",
    "\n",
    "layout = go.Layout(\n",
    "    xaxis = dict(title = 'Year Built'),\n",
    "    yaxis = dict(title = 'Number of Lots Built')\n",
    ")\n",
    "\n",
    "fig = go.Figure(data = [trace], layout = layout)\n",
    "\n",
    "py.iplot(fig, filename = 'ny-year-built')\n"
   ]
  },
  {
   "cell_type": "markdown",
   "metadata": {},
   "source": [
    "Something looks off... You're going to have to deal with this imperfect data to answer this first question. \n",
    "\n",
    "But first: some notes on pandas. Pandas dataframes are a different beast than R dataframes, here are some tips to help you get up to speed:\n",
    "\n",
    "---\n",
    "\n",
    "Hello all, here are some pandas tips to help you guys through this homework:\n",
    "\n",
    "[Indexing and Selecting](https://pandas.pydata.org/pandas-docs/stable/indexing.html): .loc and .iloc are the analogs for base R subsetting, or filter() in dplyr\n",
    "\n",
    "[Group By](https://pandas.pydata.org/pandas-docs/stable/groupby.html):  This is the pandas analog to group_by() and the appended function the analog to summarize(). Try out a few examples of this, and display the results in Jupyter. Take note of what's happening to the indexes, you'll notice that they'll become hierarchical. I personally find this more of a burden than a help, and this sort of hierarchical indexing leads to a fundamentally different experience compared to R dataframes. Once you perform an aggregation, try running the resulting hierarchical datafrome through a [reset_index()](https://pandas.pydata.org/pandas-docs/stable/generated/pandas.DataFrame.reset_index.html).\n",
    "\n",
    "[Reset_index](https://pandas.pydata.org/pandas-docs/stable/generated/pandas.DataFrame.reset_index.html): I personally find the hierarchical indexes more of a burden than a help, and this sort of hierarchical indexing leads to a fundamentally different experience compared to R dataframes. reset_index() is a way of restoring a dataframe to a flatter index style. Grouping is where you'll notice it the most, but it's also useful when you filter data, and in a few other split-apply-combine workflows. With pandas indexes are more meaningful, so use this if you start getting unexpected results.\n",
    "\n",
    "Indexes are more important in Pandas than in R. If you delve deeper into the using python for data science, you'll begin to see the benefits in many places (despite the personal gripes I highlighted above.) One place these indexes come in handy is with time series data. The pandas docs have a [huge section](http://pandas.pydata.org/pandas-docs/stable/timeseries.html) on datetime indexing. In particular, check out [resample](https://pandas.pydata.org/pandas-docs/stable/generated/pandas.DataFrame.resample.html), which provides time series specific aggregation.\n",
    "\n",
    "[Merging, joining, and concatenation](https://pandas.pydata.org/pandas-docs/stable/merging.html): There's some overlap between these different types of merges, so use this as your guide. Concat is a single function that replaces cbind and rbind in R, and the results are driven by the indexes. Read through these examples to get a feel on how these are performed, but you will have to manage your indexes when you're using these functions. Merges are fairly similar to merges in R, similarly mapping to SQL joins.\n",
    "\n",
    "Apply: This is explained in the \"group by\" section linked above. These are your analogs to the plyr library in R. Take note of the lambda syntax used here, these are anonymous functions in python. Rather than predefining a custom function, you can just define it inline using lambda.\n",
    "\n",
    "Browse through the other sections for some other specifics, in particular reshaping and categorical data (pandas' answer to factors.) Pandas can take a while to get used to, but it is a pretty strong framework that makes more advanced functions easier once you get used to it. Rolling functions for example follow logically from the apply workflow (and led to the best google results ever when I first tried to find this out and googled \"pandas rolling\")\n",
    "\n",
    "Google Wes Mckinney's book \"Python for Data Analysis,\" which is a cookbook style intro to pandas. It's an O'Reilly book that should be pretty available out there.\n",
    "\n",
    "---\n",
    "\n",
    "### Question\n",
    "\n",
    "After a few building collapses, the City of New York is going to begin investigating older buildings for safety. The city is particularly worried about buildings that were unusually tall when they were built, since best-practices for safety hadn’t yet been determined. Create a graph that shows how many buildings of a certain number of floors were built in each year (note: you may want to use a log scale for the number of buildings). Find a strategy to bin buildings (It should be clear 20-29-story buildings, 30-39-story buildings, and 40-49-story buildings were first built in large numbers, but does it make sense to continue in this way as you get taller?)"
   ]
  },
  {
   "cell_type": "code",
   "execution_count": 72,
   "metadata": {},
   "outputs": [],
   "source": [
    "df = ny.sort_values(by = ['YearBuilt']).copy() # set_index('YearBuilt').\n",
    "df = df[['NumFloors', 'YearBuilt']]\n",
    "df['IndBldgs'] = 1\n",
    "groupNames = ['F0_10', 'F10_20', 'F20_30', 'F30_40', 'F40_50', 'F50_60', 'F60_70', 'F70_80',\n",
    "             'F80_90', 'F90_100', 'F100_110', 'F110_120']\n",
    "df['FloorBins'] =  pd.cut(df.NumFloors, list(range(0,121,10)), labels=groupNames)\n",
    "grouped = df.groupby(['YearBuilt', 'FloorBins'], as_index=False).agg({\"IndBldgs\":'sum'})"
   ]
  },
  {
   "cell_type": "code",
   "execution_count": 76,
   "metadata": {},
   "outputs": [
    {
     "data": {
      "text/html": [
       "<iframe id=\"igraph\" scrolling=\"no\" style=\"border:none;\" seamless=\"seamless\" src=\"https://plot.ly/~kaiser_xc/8.embed\" height=\"525px\" width=\"100%\"></iframe>"
      ],
      "text/plain": [
       "<plotly.tools.PlotlyDisplay object>"
      ]
     },
     "execution_count": 76,
     "metadata": {},
     "output_type": "execute_result"
    }
   ],
   "source": [
    "trace = go.Heatmap(z=np.array(grouped.IndBldgs),\n",
    "                  x=np.array(grouped.YearBuilt),\n",
    "                  y=np.array(grouped.FloorBins))\n",
    "\n",
    "layout = go.Layout(\n",
    "    title='Number of Buildings',\n",
    "    xaxis = dict(title = 'Year Built'),\n",
    "    yaxis = dict(title = 'Floors Bins')\n",
    ")\n",
    "\n",
    "fig = go.Figure(data = [trace], layout = layout)\n",
    "\n",
    "#py.iplot(fig, filename = 'ny-year-built')\n",
    "py.iplot(fig, filename = 'GROUPEDYEAR')"
   ]
  },
  {
   "cell_type": "code",
   "execution_count": 83,
   "metadata": {},
   "outputs": [
    {
     "data": {
      "text/html": [
       "<iframe id=\"igraph\" scrolling=\"no\" style=\"border:none;\" seamless=\"seamless\" src=\"https://plot.ly/~kaiser_xc/6.embed\" height=\"525px\" width=\"100%\"></iframe>"
      ],
      "text/plain": [
       "<plotly.tools.PlotlyDisplay object>"
      ]
     },
     "execution_count": 83,
     "metadata": {},
     "output_type": "execute_result"
    }
   ],
   "source": [
    "trace = go.Scatter(\n",
    "    # I'm choosing BBL here because I know it's a unique key.\n",
    "    x = df.groupby(['YearBuilt']).mean()['NumFloors'].index,\n",
    "    y = df.groupby(['YearBuilt']).max()['NumFloors']\n",
    ")\n",
    "\n",
    "layout = go.Layout(\n",
    "    xaxis = dict(title = 'Year Built'),\n",
    "    yaxis = dict(title = 'Number of Floors (Mean)')\n",
    ")\n",
    "\n",
    "fig = go.Figure(data = [trace], layout = layout)\n",
    "\n",
    "py.iplot(fig, filename = 'nyAvgNumFloor')\n"
   ]
  },
  {
   "cell_type": "markdown",
   "metadata": {},
   "source": [
    "## Part 2: Datashader\n",
    "\n",
    "Datashader is a library from Anaconda that does away with the need for binning data. It takes in all of your datapoints, and based on the canvas and range returns a pixel-by-pixel calculations to come up with the best representation of the data. In short, this completely eliminates the need for binning your data.\n",
    "\n",
    "As an example, lets continue with our question above and look at a 2D histogram of YearBuilt vs NumFloors:"
   ]
  },
  {
   "cell_type": "code",
   "execution_count": 79,
   "metadata": {
    "scrolled": false
   },
   "outputs": [
    {
     "data": {
      "text/html": [
       "<iframe id=\"igraph\" scrolling=\"no\" style=\"border:none;\" seamless=\"seamless\" src=\"https://plot.ly/~kaiser_xc/2.embed\" height=\"525px\" width=\"100%\"></iframe>"
      ],
      "text/plain": [
       "<plotly.tools.PlotlyDisplay object>"
      ]
     },
     "execution_count": 79,
     "metadata": {},
     "output_type": "execute_result"
    }
   ],
   "source": [
    "yearbins = 200\n",
    "floorbins = 200\n",
    "\n",
    "yearBuiltCut = pd.cut(ny['YearBuilt'], np.linspace(ny['YearBuilt'].min(), ny['YearBuilt'].max(), yearbins))\n",
    "numFloorsCut = pd.cut(ny['NumFloors'], np.logspace(1, np.log(ny['NumFloors'].max()), floorbins))\n",
    "\n",
    "xlabels = np.floor(np.linspace(ny['YearBuilt'].min(), ny['YearBuilt'].max(), yearbins))\n",
    "ylabels = np.floor(np.logspace(1, np.log(ny['NumFloors'].max()), floorbins))\n",
    "\n",
    "data = [\n",
    "    go.Heatmap(z = ny.groupby([numFloorsCut, yearBuiltCut])['BBL'].count().unstack().fillna(0).values,\n",
    "              colorscale = 'Greens', x = xlabels, y = ylabels)\n",
    "]\n",
    "\n",
    "py.iplot(data, filename = 'datashader-2d-hist')"
   ]
  },
  {
   "cell_type": "markdown",
   "metadata": {},
   "source": [
    "This shows us the distribution, but it's subject to some biases discussed in the Anaconda notebook [Plotting Perils](https://anaconda.org/jbednar/plotting_pitfalls/notebook). \n",
    "\n",
    "Here is what the same plot would look like in datashader:\n",
    "\n"
   ]
  },
  {
   "cell_type": "code",
   "execution_count": 80,
   "metadata": {
    "scrolled": false
   },
   "outputs": [
    {
     "data": {
      "image/png": "[encoded data removed]",
      "text/html": [
       "<img style=\"margin: auto; border:1px solid\" src='data:image/png;base64,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'/>"
      ],
      "text/plain": [
       "<xarray.Image (NumFloors: 500, YearBuilt: 800)>\n",
       "array([[4278190080, 4278190080, 4278190080, ..., 4278190080, 4278190080,\n",
       "        4278190080],\n",
       "       [4278190080, 4278190080, 4278190080, ..., 4278190080, 4278190080,\n",
       "        4278190080],\n",
       "       [4278190080, 4278190080, 4278190080, ..., 4278190080, 4278190080,\n",
       "        4278190080],\n",
       "       ..., \n",
       "       [4278190080, 4278190080, 4278190080, ..., 4278190080, 4278190080,\n",
       "        4278190080],\n",
       "       [4278190080, 4278190080, 4278190080, ..., 4278190080, 4278190080,\n",
       "        4278190080],\n",
       "       [4278190080, 4278190080, 4278190080, ..., 4278190080, 4278190080,\n",
       "        4278190080]], dtype=uint32)\n",
       "Coordinates:\n",
       "  * NumFloors  (NumFloors) float64 0.6185 0.8555 1.093 1.329 1.567 1.804 ...\n",
       "  * YearBuilt  (YearBuilt) float64 1.851e+03 1.851e+03 1.852e+03 1.852e+03 ..."
      ]
     },
     "execution_count": 80,
     "metadata": {},
     "output_type": "execute_result"
    }
   ],
   "source": [
    "cvs = ds.Canvas(800, 500, x_range = (ny['YearBuilt'].min(), ny['YearBuilt'].max()), \n",
    "                                y_range = (ny['NumFloors'].min(), ny['NumFloors'].max()))\n",
    "agg = cvs.points(ny, 'YearBuilt', 'NumFloors')\n",
    "view = tf.shade(agg, cmap = cm(Greys9), how='log')\n",
    "export(tf.spread(view, px=2), 'yearvsnumfloors')"
   ]
  },
  {
   "cell_type": "markdown",
   "metadata": {},
   "source": [
    "That's technically just a scatterplot, but the points are smartly placed and colored to mimic what one gets in a heatmap. Based on the pixel size, it will either display individual points, or will color the points of denser regions.\n",
    "\n",
    "Datashader really shines when looking at geographic information. Here are the latitudes and longitudes of our dataset plotted out, giving us a map of the city colored by density of structures:"
   ]
  },
  {
   "cell_type": "code",
   "execution_count": 81,
   "metadata": {},
   "outputs": [
    {
     "data": {
      "image/png": "[encoded data removed]",
      "text/html": [
       "<img style=\"margin: auto; border:1px solid\" src='data:image/png;base64,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'/>"
      ],
      "text/plain": [
       "<xarray.Image (lat: 700, lon: 700)>\n",
       "array([[4278190080, 4278190080, 4278190080, ..., 4278190080, 4278190080,\n",
       "        4278190080],\n",
       "       [4278190080, 4278190080, 4278190080, ..., 4278190080, 4278190080,\n",
       "        4278190080],\n",
       "       [4278190080, 4278190080, 4278190080, ..., 4278190080, 4278190080,\n",
       "        4278190080],\n",
       "       ..., \n",
       "       [4278190080, 4278190080, 4278190080, ..., 4278190080, 4278190080,\n",
       "        4278190080],\n",
       "       [4278190080, 4278190080, 4278190080, ..., 4278190080, 4278190080,\n",
       "        4278190080],\n",
       "       [4278190080, 4278190080, 4278190080, ..., 4278190080, 4278190080,\n",
       "        4278190080]], dtype=uint32)\n",
       "Coordinates:\n",
       "  * lat      (lat) float64 40.49 40.49 40.49 40.49 40.49 40.49 40.49 40.49 ...\n",
       "  * lon      (lon) float64 -74.29 -74.29 -74.29 -74.29 -74.29 -74.29 -74.28 ..."
      ]
     },
     "execution_count": 81,
     "metadata": {},
     "output_type": "execute_result"
    }
   ],
   "source": [
    "NewYorkCity   = (( -74.29,  -73.69), (40.49, 40.92))\n",
    "cvs = ds.Canvas(700, 700, *NewYorkCity)\n",
    "agg = cvs.points(ny, 'lon', 'lat')\n",
    "view = tf.shade(agg, cmap = cm(inferno), how='log')\n",
    "export(tf.spread(view, px=2), 'firery')"
   ]
  },
  {
   "cell_type": "markdown",
   "metadata": {},
   "source": [
    "Interestingly, since we're looking at structures, the large buildings of Manhattan show up as less dense on the map. The densest areas measured by number of lots would be single or multi family townhomes.\n",
    "\n",
    "Unfortunately, Datashader doesn't have the best documentation. Browse through the examples from their [github repo](https://github.com/bokeh/datashader/tree/master/examples). I would focus on the [visualization pipeline](https://anaconda.org/jbednar/pipeline/notebook) and the [US Census](https://anaconda.org/jbednar/census/notebook) Example for the question below. Feel free to use my samples as templates as well when you work on this problem.\n",
    "\n",
    "### Question\n",
    "\n",
    "You work for a real estate developer and are researching underbuilt areas of the city. After looking in the [Pluto data dictionary](https://www1.nyc.gov/assets/planning/download/pdf/data-maps/open-data/pluto_datadictionary.pdf?v=17v1_1), you've discovered that all tax assessments consist of two parts: The assessment of the land and assessment of the structure. You reason that there should be a correlation between these two values: more valuable land will have more valuable structures on them (more valuable in this case refers not just to a mansion vs a bungalow, but an apartment tower vs a single family home). Deviations from the norm could represent underbuilt or overbuilt areas of the city. You also recently read a really cool blog post about [bivariate choropleth maps](http://www.joshuastevens.net/cartography/make-a-bivariate-choropleth-map/), and think the technique could be used for this problem.\n",
    "\n",
    "Datashader is really cool, but it's not that great at labeling your visualization. Don't worry about providing a legend, but provide a quick explanation as to which areas of the city are overbuilt, which areas are underbuilt, and which areas are built in a way that's properly correlated with their land value."
   ]
  },
  {
   "cell_type": "code",
   "execution_count": 109,
   "metadata": {},
   "outputs": [
    {
     "data": {
      "text/html": [
       "<div>\n",
       "<style>\n",
       "    .dataframe thead tr:only-child th {\n",
       "        text-align: right;\n",
       "    }\n",
       "\n",
       "    .dataframe thead th {\n",
       "        text-align: left;\n",
       "    }\n",
       "\n",
       "    .dataframe tbody tr th {\n",
       "        vertical-align: top;\n",
       "    }\n",
       "</style>\n",
       "<table border=\"1\" class=\"dataframe\">\n",
       "  <thead>\n",
       "    <tr style=\"text-align: right;\">\n",
       "      <th></th>\n",
       "      <th>AssessTot</th>\n",
       "      <th>AssessLand</th>\n",
       "      <th>lon</th>\n",
       "      <th>lat</th>\n",
       "      <th>AssBuild</th>\n",
       "    </tr>\n",
       "  </thead>\n",
       "  <tbody>\n",
       "    <tr>\n",
       "      <th>1</th>\n",
       "      <td>10156950</td>\n",
       "      <td>834300</td>\n",
       "      <td>-76.449562</td>\n",
       "      <td>40.304416</td>\n",
       "      <td>9322650</td>\n",
       "    </tr>\n",
       "    <tr>\n",
       "      <th>17</th>\n",
       "      <td>351000</td>\n",
       "      <td>129600</td>\n",
       "      <td>-76.450235</td>\n",
       "      <td>40.304246</td>\n",
       "      <td>221400</td>\n",
       "    </tr>\n",
       "    <tr>\n",
       "      <th>20</th>\n",
       "      <td>236700</td>\n",
       "      <td>178200</td>\n",
       "      <td>-76.450634</td>\n",
       "      <td>40.304381</td>\n",
       "      <td>58500</td>\n",
       "    </tr>\n",
       "    <tr>\n",
       "      <th>22</th>\n",
       "      <td>7785450</td>\n",
       "      <td>514350</td>\n",
       "      <td>-76.449841</td>\n",
       "      <td>40.304261</td>\n",
       "      <td>7271100</td>\n",
       "    </tr>\n",
       "    <tr>\n",
       "      <th>23</th>\n",
       "      <td>40980600</td>\n",
       "      <td>972000</td>\n",
       "      <td>-76.449559</td>\n",
       "      <td>40.304258</td>\n",
       "      <td>40008600</td>\n",
       "    </tr>\n",
       "  </tbody>\n",
       "</table>\n",
       "</div>"
      ],
      "text/plain": [
       "    AssessTot  AssessLand        lon        lat  AssBuild\n",
       "1    10156950      834300 -76.449562  40.304416   9322650\n",
       "17     351000      129600 -76.450235  40.304246    221400\n",
       "20     236700      178200 -76.450634  40.304381     58500\n",
       "22    7785450      514350 -76.449841  40.304261   7271100\n",
       "23   40980600      972000 -76.449559  40.304258  40008600"
      ]
     },
     "execution_count": 109,
     "metadata": {},
     "output_type": "execute_result"
    }
   ],
   "source": [
    "ass =ny[['AssessTot', 'AssessLand','lon','lat']].copy()\n",
    "ass['AssBuild'] = ass.AssessTot - ass.AssessLand\n",
    "ass.head()"
   ]
  },
  {
   "cell_type": "code",
   "execution_count": 167,
   "metadata": {},
   "outputs": [],
   "source": [
    "groupNames = ['P1', 'P2', 'P3']\n",
    "ass['AssLandBins'] =  pd.qcut(ass.AssessLand, 3, labels=groupNames)\n",
    "ass['AssBuldBins'] =  pd.qcut(ass.AssBuild, 3, labels=groupNames)\n",
    "ass['Comb'] = ass.AssLandBins.astype(str) + '_' + ass.AssBuldBins.astype(str)\n",
    "ass.Comb = ass.Comb.astype('category')"
   ]
  },
  {
   "cell_type": "markdown",
   "metadata": {},
   "source": [
    "[Colors from here](http://www.joshuastevens.net/cartography/make-a-bivariate-choropleth-map/)"
   ]
  },
  {
   "cell_type": "code",
   "execution_count": 183,
   "metadata": {},
   "outputs": [
    {
     "ename": "ValueError",
     "evalue": "zero-size array to reduction operation minimum which has no identity",
     "output_type": "error",
     "traceback": [
      "\u001b[0;31m---------------------------------------------------------------------------\u001b[0m",
      "\u001b[0;31mValueError\u001b[0m                                Traceback (most recent call last)",
      "\u001b[0;32m<ipython-input-183-6944844f1a29>\u001b[0m in \u001b[0;36m<module>\u001b[0;34m()\u001b[0m\n\u001b[1;32m      5\u001b[0m \u001b[0mcvs\u001b[0m \u001b[0;34m=\u001b[0m \u001b[0mds\u001b[0m\u001b[0;34m.\u001b[0m\u001b[0mCanvas\u001b[0m\u001b[0;34m(\u001b[0m\u001b[0;36m700\u001b[0m\u001b[0;34m,\u001b[0m \u001b[0;36m700\u001b[0m\u001b[0;34m,\u001b[0m \u001b[0;34m*\u001b[0m \u001b[0mNewYorkCity\u001b[0m\u001b[0;34m)\u001b[0m\u001b[0;34m\u001b[0m\u001b[0m\n\u001b[1;32m      6\u001b[0m \u001b[0magg\u001b[0m \u001b[0;34m=\u001b[0m \u001b[0mcvs\u001b[0m\u001b[0;34m.\u001b[0m\u001b[0mpoints\u001b[0m\u001b[0;34m(\u001b[0m\u001b[0mass\u001b[0m\u001b[0;34m,\u001b[0m \u001b[0;34m'lon'\u001b[0m\u001b[0;34m,\u001b[0m \u001b[0;34m'lat'\u001b[0m\u001b[0;34m,\u001b[0m \u001b[0mds\u001b[0m\u001b[0;34m.\u001b[0m\u001b[0mcount_cat\u001b[0m\u001b[0;34m(\u001b[0m\u001b[0;34m'Comb'\u001b[0m\u001b[0;34m)\u001b[0m\u001b[0;34m)\u001b[0m\u001b[0;34m\u001b[0m\u001b[0m\n\u001b[0;32m----> 7\u001b[0;31m \u001b[0mview\u001b[0m \u001b[0;34m=\u001b[0m \u001b[0mtf\u001b[0m\u001b[0;34m.\u001b[0m\u001b[0mshade\u001b[0m\u001b[0;34m(\u001b[0m\u001b[0magg\u001b[0m\u001b[0;34m,\u001b[0m \u001b[0mcolor_key\u001b[0m \u001b[0;34m=\u001b[0m \u001b[0mcolors\u001b[0m\u001b[0;34m)\u001b[0m\u001b[0;34m\u001b[0m\u001b[0m\n\u001b[0m\u001b[1;32m      8\u001b[0m \u001b[0;31m#export(tf.spread(view, px=1), 'Cloropleth')\u001b[0m\u001b[0;34m\u001b[0m\u001b[0;34m\u001b[0m\u001b[0m\n",
      "\u001b[0;32m/Applications/anaconda/lib/python3.6/site-packages/datashader/transfer_functions.py\u001b[0m in \u001b[0;36mshade\u001b[0;34m(agg, cmap, color_key, how, alpha, min_alpha, span, name)\u001b[0m\n\u001b[1;32m    347\u001b[0m         \u001b[0;32mreturn\u001b[0m \u001b[0m_interpolate\u001b[0m\u001b[0;34m(\u001b[0m\u001b[0magg\u001b[0m\u001b[0;34m,\u001b[0m \u001b[0mcmap\u001b[0m\u001b[0;34m,\u001b[0m \u001b[0mhow\u001b[0m\u001b[0;34m,\u001b[0m \u001b[0malpha\u001b[0m\u001b[0;34m,\u001b[0m \u001b[0mspan\u001b[0m\u001b[0;34m,\u001b[0m \u001b[0mmin_alpha\u001b[0m\u001b[0;34m,\u001b[0m \u001b[0mname\u001b[0m\u001b[0;34m)\u001b[0m\u001b[0;34m\u001b[0m\u001b[0m\n\u001b[1;32m    348\u001b[0m     \u001b[0;32melif\u001b[0m \u001b[0magg\u001b[0m\u001b[0;34m.\u001b[0m\u001b[0mndim\u001b[0m \u001b[0;34m==\u001b[0m \u001b[0;36m3\u001b[0m\u001b[0;34m:\u001b[0m\u001b[0;34m\u001b[0m\u001b[0m\n\u001b[0;32m--> 349\u001b[0;31m         \u001b[0;32mreturn\u001b[0m \u001b[0m_colorize\u001b[0m\u001b[0;34m(\u001b[0m\u001b[0magg\u001b[0m\u001b[0;34m,\u001b[0m \u001b[0mcolor_key\u001b[0m\u001b[0;34m,\u001b[0m \u001b[0mhow\u001b[0m\u001b[0;34m,\u001b[0m \u001b[0mmin_alpha\u001b[0m\u001b[0;34m,\u001b[0m \u001b[0mname\u001b[0m\u001b[0;34m)\u001b[0m\u001b[0;34m\u001b[0m\u001b[0m\n\u001b[0m\u001b[1;32m    350\u001b[0m     \u001b[0;32melse\u001b[0m\u001b[0;34m:\u001b[0m\u001b[0;34m\u001b[0m\u001b[0m\n\u001b[1;32m    351\u001b[0m         \u001b[0;32mraise\u001b[0m \u001b[0mValueError\u001b[0m\u001b[0;34m(\u001b[0m\u001b[0;34m\"agg must use 2D or 3D coordinates\"\u001b[0m\u001b[0;34m)\u001b[0m\u001b[0;34m\u001b[0m\u001b[0m\n",
      "\u001b[0;32m/Applications/anaconda/lib/python3.6/site-packages/datashader/transfer_functions.py\u001b[0m in \u001b[0;36m_colorize\u001b[0;34m(agg, color_key, how, min_alpha, name)\u001b[0m\n\u001b[1;32m    267\u001b[0m     \u001b[0;32mif\u001b[0m \u001b[0moffset\u001b[0m \u001b[0;34m==\u001b[0m \u001b[0;36m0\u001b[0m\u001b[0;34m:\u001b[0m\u001b[0;34m\u001b[0m\u001b[0m\n\u001b[1;32m    268\u001b[0m         \u001b[0mmask\u001b[0m \u001b[0;34m=\u001b[0m \u001b[0mmask\u001b[0m \u001b[0;34m|\u001b[0m \u001b[0;34m(\u001b[0m\u001b[0mtotal\u001b[0m \u001b[0;34m<=\u001b[0m \u001b[0;36m0\u001b[0m\u001b[0;34m)\u001b[0m\u001b[0;34m\u001b[0m\u001b[0m\n\u001b[0;32m--> 269\u001b[0;31m         \u001b[0moffset\u001b[0m \u001b[0;34m=\u001b[0m \u001b[0mtotal\u001b[0m\u001b[0;34m[\u001b[0m\u001b[0mtotal\u001b[0m \u001b[0;34m>\u001b[0m \u001b[0;36m0\u001b[0m\u001b[0;34m]\u001b[0m\u001b[0;34m.\u001b[0m\u001b[0mmin\u001b[0m\u001b[0;34m(\u001b[0m\u001b[0;34m)\u001b[0m\u001b[0;34m\u001b[0m\u001b[0m\n\u001b[0m\u001b[1;32m    270\u001b[0m     \u001b[0ma\u001b[0m \u001b[0;34m=\u001b[0m \u001b[0m_normalize_interpolate_how\u001b[0m\u001b[0;34m(\u001b[0m\u001b[0mhow\u001b[0m\u001b[0;34m)\u001b[0m\u001b[0;34m(\u001b[0m\u001b[0mtotal\u001b[0m \u001b[0;34m-\u001b[0m \u001b[0moffset\u001b[0m\u001b[0;34m,\u001b[0m \u001b[0mmask\u001b[0m\u001b[0;34m)\u001b[0m\u001b[0;34m\u001b[0m\u001b[0m\n\u001b[1;32m    271\u001b[0m     a = np.interp(a, [np.nanmin(a), np.nanmax(a)],\n",
      "\u001b[0;32m/Applications/anaconda/lib/python3.6/site-packages/numpy/core/_methods.py\u001b[0m in \u001b[0;36m_amin\u001b[0;34m(a, axis, out, keepdims)\u001b[0m\n\u001b[1;32m     27\u001b[0m \u001b[0;34m\u001b[0m\u001b[0m\n\u001b[1;32m     28\u001b[0m \u001b[0;32mdef\u001b[0m \u001b[0m_amin\u001b[0m\u001b[0;34m(\u001b[0m\u001b[0ma\u001b[0m\u001b[0;34m,\u001b[0m \u001b[0maxis\u001b[0m\u001b[0;34m=\u001b[0m\u001b[0;32mNone\u001b[0m\u001b[0;34m,\u001b[0m \u001b[0mout\u001b[0m\u001b[0;34m=\u001b[0m\u001b[0;32mNone\u001b[0m\u001b[0;34m,\u001b[0m \u001b[0mkeepdims\u001b[0m\u001b[0;34m=\u001b[0m\u001b[0;32mFalse\u001b[0m\u001b[0;34m)\u001b[0m\u001b[0;34m:\u001b[0m\u001b[0;34m\u001b[0m\u001b[0m\n\u001b[0;32m---> 29\u001b[0;31m     \u001b[0;32mreturn\u001b[0m \u001b[0mumr_minimum\u001b[0m\u001b[0;34m(\u001b[0m\u001b[0ma\u001b[0m\u001b[0;34m,\u001b[0m \u001b[0maxis\u001b[0m\u001b[0;34m,\u001b[0m \u001b[0;32mNone\u001b[0m\u001b[0;34m,\u001b[0m \u001b[0mout\u001b[0m\u001b[0;34m,\u001b[0m \u001b[0mkeepdims\u001b[0m\u001b[0;34m)\u001b[0m\u001b[0;34m\u001b[0m\u001b[0m\n\u001b[0m\u001b[1;32m     30\u001b[0m \u001b[0;34m\u001b[0m\u001b[0m\n\u001b[1;32m     31\u001b[0m \u001b[0;32mdef\u001b[0m \u001b[0m_sum\u001b[0m\u001b[0;34m(\u001b[0m\u001b[0ma\u001b[0m\u001b[0;34m,\u001b[0m \u001b[0maxis\u001b[0m\u001b[0;34m=\u001b[0m\u001b[0;32mNone\u001b[0m\u001b[0;34m,\u001b[0m \u001b[0mdtype\u001b[0m\u001b[0;34m=\u001b[0m\u001b[0;32mNone\u001b[0m\u001b[0;34m,\u001b[0m \u001b[0mout\u001b[0m\u001b[0;34m=\u001b[0m\u001b[0;32mNone\u001b[0m\u001b[0;34m,\u001b[0m \u001b[0mkeepdims\u001b[0m\u001b[0;34m=\u001b[0m\u001b[0;32mFalse\u001b[0m\u001b[0;34m)\u001b[0m\u001b[0;34m:\u001b[0m\u001b[0;34m\u001b[0m\u001b[0m\n",
      "\u001b[0;31mValueError\u001b[0m: zero-size array to reduction operation minimum which has no identity"
     ]
    }
   ],
   "source": [
    "colors = {'P1_P1': '#e8e8e8', 'P1_P2': '#e4acac', 'P1_P3': '#c85a5a', \n",
    "          'P2_P1': '#b0d5df', 'P2_P2': '#ad9ea5', 'P2_P3': '#985356', \n",
    "          'P3_P1': '#64acbe', 'P3_P2': '#627f8c', 'P3_P3': '#574249'}\n",
    "NewYorkCity   = (( -74.29,  -73.69), (40.49, 40.92))\n",
    "cvs = ds.Canvas(700, 700, * NewYorkCity)\n",
    "agg = cvs.points(ass, 'lon', 'lat', ds.count_cat('Comb')) \n",
    "view = tf.shade(agg, color_key = colors)\n",
    "#export(tf.spread(view, px=1), 'Cloropleth')"
   ]
  },
  {
   "cell_type": "code",
   "execution_count": null,
   "metadata": {},
   "outputs": [],
   "source": []
  }
 ],
 "metadata": {
  "kernelspec": {
   "display_name": "Python 3",
   "language": "python",
   "name": "python3"
  },
  "language_info": {
   "codemirror_mode": {
    "name": "ipython",
    "version": 3
   },
   "file_extension": ".py",
   "mimetype": "text/x-python",
   "name": "python",
   "nbconvert_exporter": "python",
   "pygments_lexer": "ipython3",
   "version": "3.6.0"
  }
 },
 "nbformat": 4,
 "nbformat_minor": 2
}
